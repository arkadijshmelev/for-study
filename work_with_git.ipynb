{
 "cells": [
  {
   "cell_type": "markdown",
   "metadata": {},
   "source": [
    "## Функционал системы контроля версий GIT"
   ]
  },
  {
   "cell_type": "markdown",
   "metadata": {},
   "source": [
    "#### git <команда> <аргументы команды>"
   ]
  },
  {
   "cell_type": "markdown",
   "metadata": {},
   "source": [
    "- <span style=\"color:yellow\"> git config</span>\n",
    "\n",
    "  Команда предназначена для настройки параметров Git на вашем компьютере.\n",
    "\n",
    "  git config --global user.name \"Your Name\"\n",
    "  \n",
    "  git config --global user.email \"your_email@whatever.com\"\n",
    "\n",
    "- <span style=\"color:yellow\"> git config --list</span>\n",
    "\n",
    "  Команда выводит список всех ваших настроек, включая почту.\n",
    "\n",
    "- <span style=\"color:yellow\"> git init</span>\n",
    "\n",
    "  Команда иницианализирует локальный репозиторий.\n",
    "\n",
    "- <span style=\"color:yellow\"> git clone</span>\n",
    "\n",
    "  git clone [ссылка на репозиторий]\n",
    "\n",
    "  Команда клонирует существующий репозиторий. Пример: git clone https://github.com/SkillfactoryDS/example\n",
    "\n",
    "- <span style=\"color:yellow\"> git add</span>\n",
    "\n",
    "  Команда добавляет файл (папку с файлами) в индекс.\n",
    "\n",
    "  Примеры:\n",
    "\n",
    "  git add README.md — добавляет файл README.md в индекс.\n",
    "\n",
    "  git add data/ — добавляет папку data и всё её содержимое в индекс.\n",
    "\n",
    "  <span style=\"color:yellow\"> git add .</span>\n",
    "\n",
    "  Команда добавляет все файлы.\n",
    "\n",
    "- <span style=\"color:yellow\"> git reset</span>\n",
    "\n",
    "  Команда убирает папки (папку с файлами).\n",
    "\n",
    "  Примеры:\n",
    "\n",
    "  git reset README.md — удаляет файл README.md из индекса.\n",
    "\n",
    "  git reset data/ — удаляет папку data из индекса.\n",
    "\n",
    "  <span style=\"color:yellow\"> git reset .</span>\n",
    "\n",
    "  Команда убирает все файлы.\n",
    "\n",
    "- <span style=\"color:yellow\"> git commit</span>\n",
    "\n",
    "  <span style=\"color:yellow\"> -m</span> позволяет написать сообщение вместе с командой, не открывая текстовый редактор.\n",
    "\n",
    "  Обычно в сообщении указывается задача, которая решается этим обновлением, например\n",
    "\n",
    "  «инициализация», «добавление счетов» или «исправление ошибки создания счёта».\n",
    "\n",
    "  Пример:\n",
    "\n",
    "  git commit -m \"fixed bag in function clean_data\"\n",
    "\n",
    "  <span style=\"color:yellow\"> -a</span> переносит все отслеживаемые файлы в область подготовленных файлов и включает их в коммит.\n",
    "\n",
    "  Пример:\n",
    "\n",
    "  git commit -a -m \"fixed bag in function clean_data\"\n",
    "\n",
    "  <span style=\"color:yellow\"> --amend</span> заменяет последний коммит новым изменённым коммитом, что бывает полезно, если вы неправильно набрали сообщение последнего коммита или забыли включить в него какие-то файлы."
   ]
  }
 ],
 "metadata": {
  "language_info": {
   "name": "python"
  }
 },
 "nbformat": 4,
 "nbformat_minor": 2
}
