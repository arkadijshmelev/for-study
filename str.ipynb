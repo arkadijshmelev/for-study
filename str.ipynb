{
 "cells": [
  {
   "cell_type": "markdown",
   "metadata": {},
   "source": [
    "### Строки и функции работы с ними"
   ]
  },
  {
   "cell_type": "code",
   "execution_count": 50,
   "metadata": {},
   "outputs": [
    {
     "name": "stdout",
     "output_type": "stream",
     "text": [
      "Я учусь работать с GitHub!\n"
     ]
    }
   ],
   "source": [
    "st = 'Я учусь работать с GitHub!'\n",
    "print(st)"
   ]
  },
  {
   "cell_type": "markdown",
   "metadata": {},
   "source": [
    "#### Индексация и срезы"
   ]
  },
  {
   "cell_type": "code",
   "execution_count": 51,
   "metadata": {},
   "outputs": [
    {
     "name": "stdout",
     "output_type": "stream",
     "text": [
      "Я\n",
      "а\n",
      "!\n"
     ]
    }
   ],
   "source": [
    "print(st[0])\n",
    "print(st[9])\n",
    "print(st[-1])"
   ]
  },
  {
   "cell_type": "code",
   "execution_count": 52,
   "metadata": {},
   "outputs": [
    {
     "name": "stdout",
     "output_type": "stream",
     "text": [
      "учусь\n",
      "Я учу\n",
      "работать с GitHub!\n"
     ]
    }
   ],
   "source": [
    "print(st[2:7])\n",
    "print(st[:5])\n",
    "print(st[8:])"
   ]
  },
  {
   "cell_type": "code",
   "execution_count": 53,
   "metadata": {},
   "outputs": [
    {
     "name": "stdout",
     "output_type": "stream",
     "text": [
      "!buHtiG с ьтатобар ьсучу Я\n"
     ]
    }
   ],
   "source": [
    "print(st[::-1])"
   ]
  },
  {
   "cell_type": "code",
   "execution_count": 54,
   "metadata": {},
   "outputs": [
    {
     "name": "stdout",
     "output_type": "stream",
     "text": [
      "Ячьать tb\n"
     ]
    }
   ],
   "source": [
    "print(st[::3])"
   ]
  },
  {
   "cell_type": "code",
   "execution_count": 55,
   "metadata": {},
   "outputs": [
    {
     "data": {
      "text/plain": [
       "'Я учусь работать с GitHub!Flavd'"
      ]
     },
     "execution_count": 55,
     "metadata": {},
     "output_type": "execute_result"
    }
   ],
   "source": [
    "st2 = 'Flavd'\n",
    "st + st2"
   ]
  },
  {
   "cell_type": "code",
   "execution_count": 56,
   "metadata": {},
   "outputs": [
    {
     "data": {
      "text/plain": [
       "'Я учусь работать с GitHub!Я учусь работать с GitHub!Я учусь работать с GitHub!Я учусь работать с GitHub!Я учусь работать с GitHub!Я учусь работать с GitHub!Я учусь работать с GitHub!'"
      ]
     },
     "execution_count": 56,
     "metadata": {},
     "output_type": "execute_result"
    }
   ],
   "source": [
    "st * 7"
   ]
  },
  {
   "cell_type": "markdown",
   "metadata": {},
   "source": [
    "#### Функции для работы со строками"
   ]
  },
  {
   "cell_type": "code",
   "execution_count": 57,
   "metadata": {},
   "outputs": [
    {
     "name": "stdout",
     "output_type": "stream",
     "text": [
      "26\n",
      "-1\n"
     ]
    }
   ],
   "source": [
    "print(len(st))\n",
    "print(st.find('Ъ'))"
   ]
  },
  {
   "cell_type": "code",
   "execution_count": 58,
   "metadata": {},
   "outputs": [
    {
     "name": "stdout",
     "output_type": "stream",
     "text": [
      "False\n",
      "False\n",
      "False\n",
      "Я УЧУСЬ РАБОТАТЬ С GITHUB!\n",
      "я учусь работать с github!\n"
     ]
    }
   ],
   "source": [
    "print(st.isdigit()) # строка состоит только из цифр?\n",
    "print(st.isalpha()) # строка состоит только из букв?\n",
    "print(st.isalnum()) # строка состоит только из цифр и букв?\n",
    "print(st.upper())\n",
    "print(st.lower())\n"
   ]
  },
  {
   "cell_type": "code",
   "execution_count": 59,
   "metadata": {},
   "outputs": [
    {
     "name": "stdout",
     "output_type": "stream",
     "text": [
      "['Я', 'учусь', 'работать', 'с', 'GitHub!']\n"
     ]
    }
   ],
   "source": [
    "print(st.split())"
   ]
  },
  {
   "cell_type": "code",
   "execution_count": 60,
   "metadata": {},
   "outputs": [
    {
     "name": "stdout",
     "output_type": "stream",
     "text": [
      "Я You! учусь You! работать You! с You! GitHub!\n"
     ]
    }
   ],
   "source": [
    "ls_st = st.split()\n",
    "ls_st_join = ' You! '.join(ls_st)\n",
    "print(ls_st_join)"
   ]
  },
  {
   "cell_type": "code",
   "execution_count": 61,
   "metadata": {},
   "outputs": [
    {
     "name": "stdout",
     "output_type": "stream",
     "text": [
      "17:34:24\n"
     ]
    }
   ],
   "source": [
    "old = input('Введите свой возраст:')\n",
    "import time\n",
    "t = time. localtime()\n",
    "current_time = time. strftime(\"%H:%M:%S\", t)\n",
    "print(current_time)"
   ]
  },
  {
   "cell_type": "code",
   "execution_count": 62,
   "metadata": {},
   "outputs": [
    {
     "name": "stdout",
     "output_type": "stream",
     "text": [
      "В 17:34:24 ваш возраст был 40\n"
     ]
    }
   ],
   "source": [
    "print('В {} ваш возраст был {}'.format(current_time, old))"
   ]
  },
  {
   "cell_type": "code",
   "execution_count": 64,
   "metadata": {},
   "outputs": [
    {
     "name": "stdout",
     "output_type": "stream",
     "text": [
      "В 17:34:24 ваш возраст был 40.\n"
     ]
    }
   ],
   "source": [
    "print(f'В {current_time} ваш возраст был {old}.')"
   ]
  },
  {
   "cell_type": "code",
   "execution_count": 65,
   "metadata": {},
   "outputs": [],
   "source": [
    "num1 = 40.167\n",
    "num2 = 11.333"
   ]
  },
  {
   "cell_type": "code",
   "execution_count": 66,
   "metadata": {},
   "outputs": [
    {
     "name": "stdout",
     "output_type": "stream",
     "text": [
      "В 40.17 ваш возраст был 11.3\n"
     ]
    }
   ],
   "source": [
    "print('В {:.2f} ваш возраст был {:.1f}'.format(num1, num2))"
   ]
  },
  {
   "cell_type": "code",
   "execution_count": 67,
   "metadata": {},
   "outputs": [
    {
     "name": "stdout",
     "output_type": "stream",
     "text": [
      "В 40.2 ваш возраст был 11.33.\n"
     ]
    }
   ],
   "source": [
    "print(f'В {num1:.1f} ваш возраст был {num2:.2f}.')"
   ]
  }
 ],
 "metadata": {
  "kernelspec": {
   "display_name": "Python 3",
   "language": "python",
   "name": "python3"
  },
  "language_info": {
   "codemirror_mode": {
    "name": "ipython",
    "version": 3
   },
   "file_extension": ".py",
   "mimetype": "text/x-python",
   "name": "python",
   "nbconvert_exporter": "python",
   "pygments_lexer": "ipython3",
   "version": "3.12.3"
  }
 },
 "nbformat": 4,
 "nbformat_minor": 2
}
