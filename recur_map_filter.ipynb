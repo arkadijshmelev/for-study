{
 "cells": [
  {
   "cell_type": "code",
   "execution_count": 11,
   "metadata": {},
   "outputs": [
    {
     "name": "stdout",
     "output_type": "stream",
     "text": [
      "[10, 21, 24, 12]\n",
      "[21, 24, 12]\n",
      "[24, 12]\n",
      "[12]\n",
      "[]\n",
      "67\n"
     ]
    }
   ],
   "source": [
    "def sum_lst(lst):\n",
    "\n",
    "    print(lst)\n",
    "\n",
    "    if not lst:\n",
    "        \n",
    "        return 0\n",
    "    \n",
    "    return lst[0] + sum_lst(lst[1:])\n",
    "\n",
    "my_list = [10, 21, 24, 12]\n",
    "\n",
    "print(sum_lst(my_list))"
   ]
  },
  {
   "cell_type": "code",
   "execution_count": 12,
   "metadata": {},
   "outputs": [
    {
     "name": "stdout",
     "output_type": "stream",
     "text": [
      "1\n",
      "6\n",
      "120\n"
     ]
    }
   ],
   "source": [
    "def factoryal(n):\n",
    "\n",
    "    if (n == 0) or (n == 1):\n",
    "        return 1\n",
    "    \n",
    "    return factoryal(n - 1) * n\n",
    "\n",
    "print(factoryal(0))\n",
    "print(factoryal(3))\n",
    "print(factoryal(5))"
   ]
  },
  {
   "cell_type": "code",
   "execution_count": 13,
   "metadata": {},
   "outputs": [],
   "source": [
    "# Список из слов, длину которых мы хотим вычислить\n",
    "words_list = [\"We're\", 'in', 'a', 'small', 'village', 'near', 'Chicago', 'My', \"cousin's\", 'getting', 'married.']"
   ]
  },
  {
   "cell_type": "code",
   "execution_count": 14,
   "metadata": {},
   "outputs": [
    {
     "name": "stdout",
     "output_type": "stream",
     "text": [
      "[5, 2, 1, 5, 7, 4, 7, 2, 8, 7, 8]\n"
     ]
    }
   ],
   "source": [
    "ls = []\n",
    "\n",
    "def len_words(wl):\n",
    "\n",
    "    for w in wl:\n",
    "\n",
    "        ls.append(len(w))\n",
    "\n",
    "    return ls\n",
    "\n",
    "print(len_words(words_list))"
   ]
  },
  {
   "cell_type": "code",
   "execution_count": 15,
   "metadata": {},
   "outputs": [
    {
     "name": "stdout",
     "output_type": "stream",
     "text": [
      "<map object at 0x000002600E125960>\n"
     ]
    }
   ],
   "source": [
    "len_map = map(len, words_list)\n",
    "print(len_map)"
   ]
  },
  {
   "cell_type": "code",
   "execution_count": 16,
   "metadata": {},
   "outputs": [
    {
     "name": "stdout",
     "output_type": "stream",
     "text": [
      "[5, 2, 1, 5, 7, 4, 7, 2, 8, 7, 8]\n"
     ]
    }
   ],
   "source": [
    "len_map = list(map(len, words_list))\n",
    "print(len_map)"
   ]
  },
  {
   "cell_type": "code",
   "execution_count": 17,
   "metadata": {},
   "outputs": [
    {
     "name": "stdout",
     "output_type": "stream",
     "text": [
      "['in', 'near', 'My', \"cousin's\", 'married.']\n"
     ]
    }
   ],
   "source": [
    "even_list = list(filter(lambda x: len(x) % 2 == 0, words_list))\n",
    "print(even_list)"
   ]
  }
 ],
 "metadata": {
  "kernelspec": {
   "display_name": "Python 3",
   "language": "python",
   "name": "python3"
  },
  "language_info": {
   "codemirror_mode": {
    "name": "ipython",
    "version": 3
   },
   "file_extension": ".py",
   "mimetype": "text/x-python",
   "name": "python",
   "nbconvert_exporter": "python",
   "pygments_lexer": "ipython3",
   "version": "3.12.3"
  }
 },
 "nbformat": 4,
 "nbformat_minor": 2
}
