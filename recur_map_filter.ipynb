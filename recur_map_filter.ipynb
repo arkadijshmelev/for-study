{
 "cells": [
  {
   "cell_type": "code",
   "execution_count": 6,
   "metadata": {},
   "outputs": [
    {
     "name": "stdout",
     "output_type": "stream",
     "text": [
      "[10, 21, 24, 12]\n",
      "[21, 24, 12]\n",
      "[24, 12]\n",
      "[12]\n",
      "[]\n",
      "67\n"
     ]
    }
   ],
   "source": [
    "def sum_lst(lst):\n",
    "\n",
    "    print(lst)\n",
    "\n",
    "    if not lst:\n",
    "        \n",
    "        return 0\n",
    "    \n",
    "    return lst[0] + sum_lst(lst[1:])\n",
    "\n",
    "my_list = [10, 21, 24, 12]\n",
    "\n",
    "print(sum_lst(my_list))"
   ]
  },
  {
   "cell_type": "code",
   "execution_count": null,
   "metadata": {},
   "outputs": [],
   "source": [
    "def factoryal(n):\n",
    "\n",
    "    if (n == 0) or (n == 1):\n",
    "        return 1\n",
    "    \n",
    "    return factoryal(n - 1) * n\n",
    "\n",
    "print(factoryal(0))\n",
    "print(factoryal(3))\n",
    "print(factoryal(5))"
   ]
  }
 ],
 "metadata": {
  "kernelspec": {
   "display_name": "Python 3",
   "language": "python",
   "name": "python3"
  },
  "language_info": {
   "codemirror_mode": {
    "name": "ipython",
    "version": 3
   },
   "file_extension": ".py",
   "mimetype": "text/x-python",
   "name": "python",
   "nbconvert_exporter": "python",
   "pygments_lexer": "ipython3",
   "version": "3.12.3"
  }
 },
 "nbformat": 4,
 "nbformat_minor": 2
}
