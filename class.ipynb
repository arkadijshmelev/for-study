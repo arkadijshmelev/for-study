{
 "cells": [
  {
   "cell_type": "code",
   "execution_count": 1,
   "metadata": {},
   "outputs": [],
   "source": [
    "import pandas as pd\n",
    "import numpy as np"
   ]
  },
  {
   "cell_type": "code",
   "execution_count": 2,
   "metadata": {},
   "outputs": [],
   "source": [
    "# class SalesReport():\n",
    "#     pass"
   ]
  },
  {
   "cell_type": "code",
   "execution_count": 3,
   "metadata": {},
   "outputs": [],
   "source": [
    "# # Создадим объект класса.\n",
    "# report = SalesReport()\n",
    "# # Создадим атрибут.\n",
    "# report.amount = 10\n",
    "# # Создадим еще один объект того же класса.\n",
    "# report2 = SalesReport()\n",
    "# report2.amount = 20\n",
    "# # Создадим функцию, которая будет печатать общую сумму из отчета.\n",
    "# def print_report(report):\n",
    "#     print('Total amount', report.amount)\n",
    "\n",
    "# print_report(report)"
   ]
  },
  {
   "cell_type": "code",
   "execution_count": 4,
   "metadata": {},
   "outputs": [],
   "source": [
    "# print_report(report2)"
   ]
  },
  {
   "cell_type": "code",
   "execution_count": 5,
   "metadata": {},
   "outputs": [],
   "source": [
    "# # Создадим класс.\n",
    "# class SalesReport():\n",
    "#     # Метод внутри класса.\n",
    "#     def print_report(self):\n",
    "#         print('Total anount:', self.amount)\n",
    "\n",
    "# # Создаем объект класса.\n",
    "# report = SalesReport()\n",
    "# # Добавляем атрибут.\n",
    "# report.amount = 10\n",
    "# report2 = SalesReport()\n",
    "# report2.amount = 20\n",
    "# report.print_report()\n",
    "# report2.print_report()"
   ]
  },
  {
   "cell_type": "code",
   "execution_count": 6,
   "metadata": {},
   "outputs": [
    {
     "ename": "NameError",
     "evalue": "name 's' is not defined",
     "output_type": "error",
     "traceback": [
      "\u001b[1;31m---------------------------------------------------------------------------\u001b[0m",
      "\u001b[1;31mNameError\u001b[0m                                 Traceback (most recent call last)",
      "Cell \u001b[1;32mIn[6], line 24\u001b[0m\n\u001b[0;32m      1\u001b[0m \u001b[38;5;66;03m# # Создадим класс.\u001b[39;00m\n\u001b[0;32m      2\u001b[0m \u001b[38;5;66;03m# class SalesReport():\u001b[39;00m\n\u001b[0;32m      3\u001b[0m \n\u001b[1;32m   (...)\u001b[0m\n\u001b[0;32m     22\u001b[0m \u001b[38;5;66;03m# report.add_deal(10_000)\u001b[39;00m\n\u001b[0;32m     23\u001b[0m \u001b[38;5;66;03m# report.add_deal(30_000)\u001b[39;00m\n\u001b[1;32m---> 24\u001b[0m \u001b[43ms\u001b[49m\u001b[38;5;66;03m# report.print_report()\u001b[39;00m\n",
      "\u001b[1;31mNameError\u001b[0m: name 's' is not defined"
     ]
    }
   ],
   "source": [
    "# # Создадим класс.\n",
    "# class SalesReport():\n",
    "\n",
    "#     # Будем добавлять много разных сделок.\n",
    "#     def add_deal(self, amount):\n",
    "#         # На первой сделке создадим список, где будут храниться все сделки.\n",
    "#         if not hasattr(self, 'deals'):\n",
    "#             self.deals = []\n",
    "#         # Добавляем текущую сделку.\n",
    "#         self.deals.append(amount)\n",
    "\n",
    "#     # Получаем сумму всех сделок.\n",
    "#     def total_deals(self):\n",
    "#         return sum(self.deals)\n",
    "    \n",
    "#     # Печатаем результат.\n",
    "#     def print_report(self):\n",
    "#         print('Total amount:', self.total_deals())\n",
    "\n",
    "# report = SalesReport()\n",
    "# report.total_deals()\n",
    "# report.add_deal(10_000)\n",
    "# report.add_deal(30_000)\n",
    "s# report.print_report()"
   ]
  },
  {
   "cell_type": "code",
   "execution_count": null,
   "metadata": {},
   "outputs": [
    {
     "name": "stdout",
     "output_type": "stream",
     "text": [
      "[]\n",
      "0\n",
      "Total amount: 40000\n"
     ]
    }
   ],
   "source": [
    "class SalesReport():\n",
    "\n",
    "    def __init__(self):\n",
    "        self.deals = []\n",
    "\n",
    "    def add_deals(self, amount):\n",
    "        self.deals.append(amount)\n",
    "\n",
    "    def total_amount(self):\n",
    "        return sum(self.deals)\n",
    "    \n",
    "    def print_report(self):\n",
    "        print('Total amount:', self.total_amount())\n",
    "\n",
    "report = SalesReport()\n",
    "\n",
    "print(report.deals)\n",
    "print(report.total_amount())\n",
    "report.add_deals(10_000)\n",
    "report.add_deals(30_000)\n",
    "report.print_report()"
   ]
  },
  {
   "cell_type": "code",
   "execution_count": null,
   "metadata": {},
   "outputs": [
    {
     "name": "stdout",
     "output_type": "stream",
     "text": [
      "Manager: Arkady Shmelev\n",
      "Total amount: 87000\n"
     ]
    }
   ],
   "source": [
    "class SalesReport():\n",
    "\n",
    "    # Будем добавлять еще и имя менеджера.\n",
    "    def __init__(self, menager_name):\n",
    "        self.deals = []\n",
    "        self.menager_name = menager_name\n",
    "\n",
    "    def add_deal(self, amount):\n",
    "        self.deals.append(amount)\n",
    "\n",
    "    def total_amounts(self):\n",
    "        return sum(self.deals)\n",
    "    \n",
    "    def print_report(self):\n",
    "        print('Manager:', self.menager_name)\n",
    "        print('Total amount:', self.total_amounts())\n",
    "\n",
    "report = SalesReport('Arkady Shmelev')\n",
    "report.add_deal(10_000)\n",
    "report.add_deal(77_000)\n",
    "report.print_report()"
   ]
  },
  {
   "cell_type": "code",
   "execution_count": null,
   "metadata": {},
   "outputs": [
    {
     "name": "stdout",
     "output_type": "stream",
     "text": [
      "Employee: Vani Dry\n",
      "Total sales 1135007\n",
      "Average sales 378335.667\n",
      "Companies: ['HeadSholders', 'AUDI']\n"
     ]
    }
   ],
   "source": [
    "class SalesReport():\n",
    "\n",
    "    def __init__(self, employee_name):\n",
    "        self.deals = []\n",
    "        self.employee_name = employee_name\n",
    "\n",
    "    def add_deal(self, company, amount):\n",
    "        self.deals.append({'company' : company, 'amount' : amount})\n",
    "\n",
    "    def total_amount(self):\n",
    "        return sum([deal['amount'] for deal in self.deals])\n",
    "    \n",
    "    def average_deal(self):\n",
    "        return round(self.total_amount() / len(self.deals), 3)\n",
    "    \n",
    "    def all_companies(self):\n",
    "        return list(set([deal['company'] for deal in self.deals]))\n",
    "    \n",
    "    def print_report(self):\n",
    "        print('Employee:', self.employee_name)\n",
    "        print('Total sales', self.total_amount())\n",
    "        print('Average sales', self.average_deal())\n",
    "        print('Companies:', self.all_companies())\n",
    "\n",
    "report = SalesReport('Vani Dry')\n",
    "report.add_deal('AUDI', 333_000)\n",
    "report.add_deal('HeadSholders', 1_507)\n",
    "report.add_deal('AUDI', 800_500)\n",
    "report.print_report()"
   ]
  },
  {
   "cell_type": "code",
   "execution_count": null,
   "metadata": {},
   "outputs": [
    {
     "name": "stdout",
     "output_type": "stream",
     "text": [
      "Order price for mag@gmail.com is 100\n",
      "Order price for lova@yandex.com is 162.0\n",
      "Order price for gera@yandex.com is 500\n",
      "Order price for gera@yandex.com is 450.0\n"
     ]
    }
   ],
   "source": [
    "class Client():\n",
    "\n",
    "    def __init__(self, email, order_num, registration_year):\n",
    "        self.email = email\n",
    "        self.order_num = order_num\n",
    "        self.registration_year = registration_year\n",
    "        self.discount = 0\n",
    "\n",
    "    def make_oder(self, price):\n",
    "        self.update_discount()\n",
    "        self.order_num += 1\n",
    "        discounted_price = price * (1 - self.discount)\n",
    "        print(f'Order price for {self.email} is {discounted_price}')\n",
    "\n",
    "    def update_discount(self):\n",
    "        if self.registration_year < 2018 and self.order_num >=5:\n",
    "            self.discount = 0.1\n",
    "\n",
    "\n",
    "# Сделаем подобие базы:\n",
    "client_db = [\n",
    "    Client('mag@gmail.com', 2, 2019),\n",
    "    Client('lova@yandex.com', 10, 2015),\n",
    "    Client('gera@yandex.com', 4, 2017)\n",
    "]\n",
    "\n",
    "# Сгенерируем заказы.\n",
    "client_db[0].make_oder(100)\n",
    "client_db[1].make_oder(180)\n",
    "client_db[2].make_oder(500)\n",
    "client_db[2].make_oder(500)"
   ]
  },
  {
   "cell_type": "code",
   "execution_count": null,
   "metadata": {},
   "outputs": [],
   "source": [
    "import statistics"
   ]
  },
  {
   "cell_type": "code",
   "execution_count": null,
   "metadata": {},
   "outputs": [],
   "source": [
    "class DataFrame():\n",
    "\n",
    "    def __init__(self, column, fill_value=0):\n",
    "        # Иницианализируем атрибуты.\n",
    "        self.column = column\n",
    "        self.fill_vallue = fill_value\n",
    "        # Заполним пропуски.\n",
    "        self.fill_missed()\n",
    "        # Конвертируем элементы в числа.\n",
    "        self.to_float()\n",
    "\n",
    "    def fill_missed(self):\n",
    "        for i, value in enumerate(self.column):\n",
    "            if value is None or value == '':\n",
    "                self.column[i] = self.fill_vallue\n",
    "\n",
    "    def to_float(self):\n",
    "        self.column = [float(value) for value in self.column]\n",
    "\n",
    "    def median(self):\n",
    "        return statistics.median(self.column)\n",
    "    \n",
    "    def mean(self):\n",
    "        return statistics.mean(self.column)\n",
    "    \n",
    "    def deviation(self):\n",
    "        return statistics.stdev(self.column)"
   ]
  },
  {
   "cell_type": "code",
   "execution_count": null,
   "metadata": {},
   "outputs": [
    {
     "name": "stdout",
     "output_type": "stream",
     "text": [
      "[1.0, 17.0, 4.0, 0.0, 8.0]\n",
      "6.892024376045111\n",
      "4.0\n"
     ]
    }
   ],
   "source": [
    "# Воспользуемся классом  \n",
    "df = DataFrame([\"1\", 17, 4, None, 8])  \n",
    "  \n",
    "print(df.column)  \n",
    "# => [1.0, 17.0, 4.0, 0.0, 8.0]  \n",
    "print(df.deviation())  \n",
    "# => 6.89  \n",
    "print(df.median())  \n",
    "# => 4.0  "
   ]
  },
  {
   "cell_type": "code",
   "execution_count": null,
   "metadata": {},
   "outputs": [],
   "source": [
    "import pickle\n",
    "# from datetime import datetime\n",
    "from os import path\n",
    "from datetime import datetime"
   ]
  },
  {
   "cell_type": "code",
   "execution_count": null,
   "metadata": {},
   "outputs": [
    {
     "data": {
      "text/plain": [
       "datetime.datetime(2024, 7, 26, 17, 17, 46, 991526)"
      ]
     },
     "execution_count": 32,
     "metadata": {},
     "output_type": "execute_result"
    }
   ],
   "source": [
    "datetime.now()"
   ]
  },
  {
   "cell_type": "code",
   "execution_count": null,
   "metadata": {},
   "outputs": [],
   "source": [
    "class Dumper():\n",
    "\n",
    "    def __init__(self, archive_dir='archive/'):\n",
    "        self.archive_dir = archive_dir\n",
    "\n",
    "    def dump(self, data):\n",
    "        with open(self.get_file_name(), 'wb') as file:\n",
    "            pickle.dump(data, file)\n",
    "\n",
    "    def load_for_day(self, day):\n",
    "        file_name = path.join(self.archive_dir, day + '.pkl')\n",
    "        with open(file_name, 'rb') as file:\n",
    "            sets = pickle.load(file)\n",
    "        return sets\n",
    "    \n",
    "    def get_file_name(self):\n",
    "        today = datetime.now() #.strftime('%y-%m-%d')\n",
    "        return path.join(self.archive_dir, today + '.pkl')"
   ]
  },
  {
   "cell_type": "code",
   "execution_count": null,
   "metadata": {},
   "outputs": [
    {
     "ename": "NameError",
     "evalue": "name 'Dumper' is not defined",
     "output_type": "error",
     "traceback": [
      "\u001b[1;31m---------------------------------------------------------------------------\u001b[0m",
      "\u001b[1;31mNameError\u001b[0m                                 Traceback (most recent call last)",
      "Cell \u001b[1;32mIn[33], line 9\u001b[0m\n\u001b[0;32m      1\u001b[0m \u001b[38;5;66;03m# Пример использования  \u001b[39;00m\n\u001b[0;32m      3\u001b[0m data \u001b[38;5;241m=\u001b[39m {  \n\u001b[0;32m      4\u001b[0m     \u001b[38;5;124m'\u001b[39m\u001b[38;5;124mperfomance\u001b[39m\u001b[38;5;124m'\u001b[39m: [\u001b[38;5;241m10\u001b[39m, \u001b[38;5;241m20\u001b[39m, \u001b[38;5;241m10\u001b[39m],  \n\u001b[0;32m      5\u001b[0m     \u001b[38;5;124m'\u001b[39m\u001b[38;5;124mclients\u001b[39m\u001b[38;5;124m'\u001b[39m: {\u001b[38;5;124m\"\u001b[39m\u001b[38;5;124mRomashka\u001b[39m\u001b[38;5;124m\"\u001b[39m: \u001b[38;5;241m10\u001b[39m, \u001b[38;5;124m\"\u001b[39m\u001b[38;5;124mVector\u001b[39m\u001b[38;5;124m\"\u001b[39m: \u001b[38;5;241m34\u001b[39m}  \n\u001b[0;32m      6\u001b[0m }  \n\u001b[1;32m----> 9\u001b[0m dumper \u001b[38;5;241m=\u001b[39m \u001b[43mDumper\u001b[49m()  \n\u001b[0;32m     11\u001b[0m \u001b[38;5;66;03m# Сохраним данные  \u001b[39;00m\n\u001b[0;32m     12\u001b[0m dumper\u001b[38;5;241m.\u001b[39mdump(data)  \n",
      "\u001b[1;31mNameError\u001b[0m: name 'Dumper' is not defined"
     ]
    }
   ],
   "source": [
    "# # Пример использования  \n",
    "  \n",
    "# data = {  \n",
    "#     'perfomance': [10, 20, 10],  \n",
    "#     'clients': {\"Romashka\": 10, \"Vector\": 34}  \n",
    "# }  \n",
    "  \n",
    "  \n",
    "# dumper = Dumper()  \n",
    "  \n",
    "# # Сохраним данные  \n",
    "# dumper.dump(data)  \n",
    "  \n",
    "# # Восстановим для сегодняшней даты  \n",
    "# file_name = datetime.now().strftime(\"%y-%m-%d\")\n",
    "# restored_data = dumper.load_for_day(file_name)\n",
    "# print(restored_data)  \n",
    "# # => {'perfomance': [10, 20, 10], 'clients': {'Romashka': 10, 'Vector': 34}}  "
   ]
  },
  {
   "cell_type": "code",
   "execution_count": null,
   "metadata": {},
   "outputs": [
    {
     "ename": "FileNotFoundError",
     "evalue": "[Errno 2] No such file or directory: 'archive/24-07-26.pkl'",
     "output_type": "error",
     "traceback": [
      "\u001b[1;31m---------------------------------------------------------------------------\u001b[0m",
      "\u001b[1;31mFileNotFoundError\u001b[0m                         Traceback (most recent call last)",
      "Cell \u001b[1;32mIn[13], line 37\u001b[0m\n\u001b[0;32m     34\u001b[0m dumper \u001b[38;5;241m=\u001b[39m Dumper()  \n\u001b[0;32m     36\u001b[0m \u001b[38;5;66;03m# Сохраним данные  \u001b[39;00m\n\u001b[1;32m---> 37\u001b[0m \u001b[43mdumper\u001b[49m\u001b[38;5;241;43m.\u001b[39;49m\u001b[43mdump\u001b[49m\u001b[43m(\u001b[49m\u001b[43mdata\u001b[49m\u001b[43m)\u001b[49m  \n\u001b[0;32m     39\u001b[0m \u001b[38;5;66;03m# Восстановим для сегодняшней даты  \u001b[39;00m\n\u001b[0;32m     40\u001b[0m file_name \u001b[38;5;241m=\u001b[39m datetime\u001b[38;5;241m.\u001b[39mnow()\u001b[38;5;241m.\u001b[39mstrftime(\u001b[38;5;124m\"\u001b[39m\u001b[38;5;124m%\u001b[39m\u001b[38;5;124my-\u001b[39m\u001b[38;5;124m%\u001b[39m\u001b[38;5;124mm-\u001b[39m\u001b[38;5;132;01m%d\u001b[39;00m\u001b[38;5;124m\"\u001b[39m)\n",
      "Cell \u001b[1;32mIn[13], line 11\u001b[0m, in \u001b[0;36mDumper.dump\u001b[1;34m(self, data)\u001b[0m\n\u001b[0;32m      9\u001b[0m \u001b[38;5;28;01mdef\u001b[39;00m \u001b[38;5;21mdump\u001b[39m(\u001b[38;5;28mself\u001b[39m, data):  \n\u001b[0;32m     10\u001b[0m     \u001b[38;5;66;03m# Библиотека pickle позволяет доставать и класть объекты в файл  \u001b[39;00m\n\u001b[1;32m---> 11\u001b[0m     \u001b[38;5;28;01mwith\u001b[39;00m \u001b[38;5;28;43mopen\u001b[39;49m\u001b[43m(\u001b[49m\u001b[38;5;28;43mself\u001b[39;49m\u001b[38;5;241;43m.\u001b[39;49m\u001b[43mget_file_name\u001b[49m\u001b[43m(\u001b[49m\u001b[43m)\u001b[49m\u001b[43m,\u001b[49m\u001b[43m \u001b[49m\u001b[38;5;124;43m'\u001b[39;49m\u001b[38;5;124;43mwb\u001b[39;49m\u001b[38;5;124;43m'\u001b[39;49m\u001b[43m)\u001b[49m \u001b[38;5;28;01mas\u001b[39;00m file:  \n\u001b[0;32m     12\u001b[0m         pickle\u001b[38;5;241m.\u001b[39mdump(data, file)\n",
      "File \u001b[1;32m~\\AppData\\Roaming\\Python\\Python312\\site-packages\\IPython\\core\\interactiveshell.py:324\u001b[0m, in \u001b[0;36m_modified_open\u001b[1;34m(file, *args, **kwargs)\u001b[0m\n\u001b[0;32m    317\u001b[0m \u001b[38;5;28;01mif\u001b[39;00m file \u001b[38;5;129;01min\u001b[39;00m {\u001b[38;5;241m0\u001b[39m, \u001b[38;5;241m1\u001b[39m, \u001b[38;5;241m2\u001b[39m}:\n\u001b[0;32m    318\u001b[0m     \u001b[38;5;28;01mraise\u001b[39;00m \u001b[38;5;167;01mValueError\u001b[39;00m(\n\u001b[0;32m    319\u001b[0m         \u001b[38;5;124mf\u001b[39m\u001b[38;5;124m\"\u001b[39m\u001b[38;5;124mIPython won\u001b[39m\u001b[38;5;124m'\u001b[39m\u001b[38;5;124mt let you open fd=\u001b[39m\u001b[38;5;132;01m{\u001b[39;00mfile\u001b[38;5;132;01m}\u001b[39;00m\u001b[38;5;124m by default \u001b[39m\u001b[38;5;124m\"\u001b[39m\n\u001b[0;32m    320\u001b[0m         \u001b[38;5;124m\"\u001b[39m\u001b[38;5;124mas it is likely to crash IPython. If you know what you are doing, \u001b[39m\u001b[38;5;124m\"\u001b[39m\n\u001b[0;32m    321\u001b[0m         \u001b[38;5;124m\"\u001b[39m\u001b[38;5;124myou can use builtins\u001b[39m\u001b[38;5;124m'\u001b[39m\u001b[38;5;124m open.\u001b[39m\u001b[38;5;124m\"\u001b[39m\n\u001b[0;32m    322\u001b[0m     )\n\u001b[1;32m--> 324\u001b[0m \u001b[38;5;28;01mreturn\u001b[39;00m \u001b[43mio_open\u001b[49m\u001b[43m(\u001b[49m\u001b[43mfile\u001b[49m\u001b[43m,\u001b[49m\u001b[43m \u001b[49m\u001b[38;5;241;43m*\u001b[39;49m\u001b[43margs\u001b[49m\u001b[43m,\u001b[49m\u001b[43m \u001b[49m\u001b[38;5;241;43m*\u001b[39;49m\u001b[38;5;241;43m*\u001b[39;49m\u001b[43mkwargs\u001b[49m\u001b[43m)\u001b[49m\n",
      "\u001b[1;31mFileNotFoundError\u001b[0m: [Errno 2] No such file or directory: 'archive/24-07-26.pkl'"
     ]
    }
   ],
   "source": [
    "# import pickle  \n",
    "# from datetime import datetime  \n",
    "# from os import path  \n",
    "  \n",
    "# class Dumper():  \n",
    "#     def __init__(self, archive_dir=\"archive/\"):  \n",
    "#         self.archive_dir = archive_dir  \n",
    "          \n",
    "#     def dump(self, data):  \n",
    "#         # Библиотека pickle позволяет доставать и класть объекты в файл  \n",
    "#         with open(self.get_file_name(), 'wb') as file:  \n",
    "#             pickle.dump(data, file)  \n",
    "              \n",
    "#     def load_for_day(self, day):  \n",
    "#         file_name = path.join(self.archive_dir, day + \".pkl\")   \n",
    "#         with open(file_name, 'rb') as file:  \n",
    "#             sets = pickle.load(file)  \n",
    "#         return sets  \n",
    "          \n",
    "#     # возвращает корректное имя для файла   \n",
    "#     def get_file_name(self):   \n",
    "#         today = datetime.now().strftime(\"%y-%m-%d\")   \n",
    "#         return path.join(self.archive_dir, today + \".pkl\")  \n",
    "      \n",
    "      \n",
    "# # Пример использования  \n",
    "  \n",
    "# data = {  \n",
    "#     'perfomance': [10, 20, 10],  \n",
    "#     'clients': {\"Romashka\": 10, \"Vector\": 34}  \n",
    "# }  \n",
    "  \n",
    "  \n",
    "# dumper = Dumper()  \n",
    "  \n",
    "# # Сохраним данные  \n",
    "# dumper.dump(data)  \n",
    "  \n",
    "# # Восстановим для сегодняшней даты  \n",
    "# file_name = datetime.now().strftime(\"%y-%m-%d\")\n",
    "# restored_data = dumper.load_for_day(file_name)\n",
    "# print(restored_data)  \n",
    "# # => {'perfomance': [10, 20, 10], 'clients': {'Romashka': 10, 'Vector': 34}}  "
   ]
  }
 ],
 "metadata": {
  "kernelspec": {
   "display_name": "Python 3",
   "language": "python",
   "name": "python3"
  },
  "language_info": {
   "codemirror_mode": {
    "name": "ipython",
    "version": 3
   },
   "file_extension": ".py",
   "mimetype": "text/x-python",
   "name": "python",
   "nbconvert_exporter": "python",
   "pygments_lexer": "ipython3",
   "version": "3.12.3"
  }
 },
 "nbformat": 4,
 "nbformat_minor": 2
}
